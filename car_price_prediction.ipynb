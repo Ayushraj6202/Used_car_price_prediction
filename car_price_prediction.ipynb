{
  "nbformat": 4,
  "nbformat_minor": 0,
  "metadata": {
    "colab": {
      "provenance": []
    },
    "kernelspec": {
      "name": "python3",
      "display_name": "Python 3"
    },
    "language_info": {
      "name": "python"
    }
  },
  "cells": [
    {
      "cell_type": "markdown",
      "source": [
        "#importing important libraries for this project"
      ],
      "metadata": {
        "id": "7MVyKylX2I8R"
      }
    },
    {
      "cell_type": "code",
      "execution_count": 1007,
      "metadata": {
        "id": "qM1CFAQ-Nsyz"
      },
      "outputs": [],
      "source": [
        "import pandas as pd\n",
        "import numpy as np\n",
        "import matplotlib.pyplot as plt\n",
        "import seaborn as sns\n",
        "\n",
        "from sklearn.model_selection import train_test_split\n",
        "from sklearn.ensemble import RandomForestRegressor\n",
        "from sklearn.linear_model import LinearRegression,Ridge,Lasso,BayesianRidge\n",
        "from sklearn.metrics import accuracy_score,confusion_matrix,classification_report,r2_score,mean_squared_error"
      ]
    },
    {
      "cell_type": "markdown",
      "source": [
        "#Reading train and test data"
      ],
      "metadata": {
        "id": "PII-DA1k2EUo"
      }
    },
    {
      "cell_type": "code",
      "source": [
        "train_data=pd.read_csv(\"/content/drive/MyDrive/Colab Notebooks/car-train-data.csv\")\n",
        "test_data=pd.read_csv(\"/content/drive/MyDrive/Colab Notebooks/car-test-data.csv\")"
      ],
      "metadata": {
        "id": "PUumojY7zxqS"
      },
      "execution_count": 1008,
      "outputs": []
    },
    {
      "cell_type": "markdown",
      "source": [
        "**Create data variable which is sum of train and test  part**"
      ],
      "metadata": {
        "id": "F3N7ffXRrmij"
      }
    },
    {
      "cell_type": "code",
      "source": [
        "Y=train_data[\"Price\"]\n",
        "len(train_data),len(test_data)"
      ],
      "metadata": {
        "id": "1kgzGaRGt25F",
        "colab": {
          "base_uri": "https://localhost:8080/"
        },
        "outputId": "633260e5-82e6-49c5-e46e-81dbe4949c1e"
      },
      "execution_count": 1009,
      "outputs": [
        {
          "output_type": "execute_result",
          "data": {
            "text/plain": [
              "(6019, 1234)"
            ]
          },
          "metadata": {},
          "execution_count": 1009
        }
      ]
    },
    {
      "cell_type": "code",
      "source": [
        "data=pd.concat([train_data.drop(\"Price\",axis=1),test_data],axis=0)"
      ],
      "metadata": {
        "id": "--RvJbkMrsX5"
      },
      "execution_count": 1010,
      "outputs": []
    },
    {
      "cell_type": "markdown",
      "source": [
        "#Clean, Transfrom and Reduce Data\n",
        "I viewed test and train data there is a `New_Price` column which is mostly Null values so we are droping it, also `Unnamed: 0` columns because there is no use of this"
      ],
      "metadata": {
        "id": "0sE4UxtW2SO4"
      }
    },
    {
      "cell_type": "code",
      "source": [
        "data.drop('New_Price',axis=1,inplace=True)\n",
        "data.drop(\"Unnamed: 0\",inplace=True,axis=1)\n",
        "data.drop(\"Location\",axis=1,inplace=True)"
      ],
      "metadata": {
        "id": "UaxS5pr10AEo"
      },
      "execution_count": 1011,
      "outputs": []
    },
    {
      "cell_type": "markdown",
      "source": [
        "**Mileage Power Engine value is in numeric but there is unit written there we have to convert it into fully numeric**"
      ],
      "metadata": {
        "id": "ZPbNqmAM3NHl"
      }
    },
    {
      "cell_type": "code",
      "source": [
        "data[\"Mileage\"]=data[\"Mileage\"].str.replace(\" kmpl\",\"\")\n",
        "data[\"Mileage\"]=data[\"Mileage\"].str.replace(\" km/kg\",\"\")\n",
        "data[\"Power\"]=data[\"Power\"].str.replace(\" bhp\",\"\")\n",
        "data[\"Engine\"]=data[\"Engine\"].str.replace(\" CC\",\"\")"
      ],
      "metadata": {
        "id": "l9Wb5QFY3EfX"
      },
      "execution_count": 1012,
      "outputs": []
    },
    {
      "cell_type": "code",
      "source": [
        "data.isna().sum()"
      ],
      "metadata": {
        "colab": {
          "base_uri": "https://localhost:8080/"
        },
        "id": "reNjEjoS74Bi",
        "outputId": "72dc4f12-f6bc-42f4-bd27-27a87b00e64a"
      },
      "execution_count": 1013,
      "outputs": [
        {
          "output_type": "execute_result",
          "data": {
            "text/plain": [
              "Name                  0\n",
              "Year                  0\n",
              "Kilometers_Driven     0\n",
              "Fuel_Type             0\n",
              "Transmission          0\n",
              "Owner_Type            0\n",
              "Mileage               2\n",
              "Engine               46\n",
              "Power                46\n",
              "Seats                53\n",
              "dtype: int64"
            ]
          },
          "metadata": {},
          "execution_count": 1013
        }
      ]
    },
    {
      "cell_type": "markdown",
      "source": [
        "#Replace Null values\n",
        "As few values of columns `Mileage` `Engine` and `Seats` are Null so i have replaces it with the mdeian value of their respective column"
      ],
      "metadata": {
        "id": "iIcPFxgLpfxO"
      }
    },
    {
      "cell_type": "code",
      "source": [
        "data[\"Mileage\"].fillna(data[\"Mileage\"].median(),inplace=True)\n",
        "data[\"Engine\"].fillna(data[\"Engine\"].median(),inplace=True)\n",
        "data[\"Seats\"].fillna(data[\"Seats\"].median(),inplace=True)"
      ],
      "metadata": {
        "id": "C_mymFbsee6B"
      },
      "execution_count": 1014,
      "outputs": []
    },
    {
      "cell_type": "markdown",
      "source": [
        "Convert string values into float"
      ],
      "metadata": {
        "id": "K5LnCRi7p9bY"
      }
    },
    {
      "cell_type": "code",
      "source": [
        "data[\"Mileage\"]=data[\"Mileage\"].astype(float)\n",
        "data[\"Engine\"]=data[\"Engine\"].astype(float)\n",
        "data =data.reset_index(drop=True)"
      ],
      "metadata": {
        "id": "2hQcn06Sp8v4"
      },
      "execution_count": 1015,
      "outputs": []
    },
    {
      "cell_type": "code",
      "source": [
        "len(data),len(train_data)"
      ],
      "metadata": {
        "colab": {
          "base_uri": "https://localhost:8080/"
        },
        "id": "clxDworpyC0X",
        "outputId": "fdeafdeb-4096-4c1d-8334-3a9df99bdf7d"
      },
      "execution_count": 1016,
      "outputs": [
        {
          "output_type": "execute_result",
          "data": {
            "text/plain": [
              "(7253, 6019)"
            ]
          },
          "metadata": {},
          "execution_count": 1016
        }
      ]
    },
    {
      "cell_type": "code",
      "source": [
        "data.isna().sum()"
      ],
      "metadata": {
        "colab": {
          "base_uri": "https://localhost:8080/"
        },
        "id": "x9GNgnL48wUm",
        "outputId": "238ebc4c-e334-4821-ab82-ddc1cbb53e0c"
      },
      "execution_count": 1017,
      "outputs": [
        {
          "output_type": "execute_result",
          "data": {
            "text/plain": [
              "Name                  0\n",
              "Year                  0\n",
              "Kilometers_Driven     0\n",
              "Fuel_Type             0\n",
              "Transmission          0\n",
              "Owner_Type            0\n",
              "Mileage               0\n",
              "Engine                0\n",
              "Power                46\n",
              "Seats                 0\n",
              "dtype: int64"
            ]
          },
          "metadata": {},
          "execution_count": 1017
        }
      ]
    },
    {
      "cell_type": "markdown",
      "source": [
        "**There are some value like null in Power columns so we have to remove it.**"
      ],
      "metadata": {
        "id": "XMyYh2CgyJo_"
      }
    },
    {
      "cell_type": "code",
      "source": [
        "remove_pos=[]\n",
        "for i in range(0,data.shape[0]):\n",
        "    if data[\"Power\"][i]==\"null\":\n",
        "        remove_pos.append(i)\n",
        "        # print(i,end=' ')\n",
        "data=data.drop(remove_pos,axis=0)"
      ],
      "metadata": {
        "id": "ySfHx7kw9ZY3"
      },
      "execution_count": 1018,
      "outputs": []
    },
    {
      "cell_type": "code",
      "source": [
        "data[\"Power\"]=data[\"Power\"].astype(float)"
      ],
      "metadata": {
        "id": "a6qtxAVe9mkt"
      },
      "execution_count": 1019,
      "outputs": []
    },
    {
      "cell_type": "markdown",
      "source": [
        "Replaces Null values of Power column with Median"
      ],
      "metadata": {
        "id": "Edm0zOaJqHS7"
      }
    },
    {
      "cell_type": "code",
      "source": [
        "data[\"Power\"].fillna(data[\"Power\"].median(),inplace=True)"
      ],
      "metadata": {
        "id": "gy3eZ25xL6LM"
      },
      "execution_count": 1020,
      "outputs": []
    },
    {
      "cell_type": "code",
      "source": [
        "data.dtypes,len(data)"
      ],
      "metadata": {
        "colab": {
          "base_uri": "https://localhost:8080/"
        },
        "id": "YXhlMGeNL_7l",
        "outputId": "7201a5e9-e925-4226-a1dd-0af01fab6064"
      },
      "execution_count": 1021,
      "outputs": [
        {
          "output_type": "execute_result",
          "data": {
            "text/plain": [
              "(Name                  object\n",
              " Year                   int64\n",
              " Kilometers_Driven      int64\n",
              " Fuel_Type             object\n",
              " Transmission          object\n",
              " Owner_Type            object\n",
              " Mileage              float64\n",
              " Engine               float64\n",
              " Power                float64\n",
              " Seats                float64\n",
              " dtype: object,\n",
              " 7124)"
            ]
          },
          "metadata": {},
          "execution_count": 1021
        }
      ]
    },
    {
      "cell_type": "code",
      "source": [
        "len(data)"
      ],
      "metadata": {
        "colab": {
          "base_uri": "https://localhost:8080/"
        },
        "id": "SCAq2xLinRS3",
        "outputId": "1f11a445-dd51-4036-e0b3-7bc85193fe41"
      },
      "execution_count": 1022,
      "outputs": [
        {
          "output_type": "execute_result",
          "data": {
            "text/plain": [
              "7124"
            ]
          },
          "metadata": {},
          "execution_count": 1022
        }
      ]
    },
    {
      "cell_type": "markdown",
      "source": [
        "As Company name is not so clear so i just cut down brand name to it's first  two name which is best representation of a car."
      ],
      "metadata": {
        "id": "N2gUjLuQqNvc"
      }
    },
    {
      "cell_type": "code",
      "source": [
        "company=data[\"Name\"].str.split(\" \",expand=True)\n",
        "data[\"Name\"]=company[0]+company[1]"
      ],
      "metadata": {
        "id": "sDYSIkJ8M09w"
      },
      "execution_count": 1023,
      "outputs": []
    },
    {
      "cell_type": "markdown",
      "source": [
        "**Preparing a dictionary which will pass through `replace` function in our data set to replace string representation of some features into some comparable numerical values**"
      ],
      "metadata": {
        "id": "va6bT5XhyYqX"
      }
    },
    {
      "cell_type": "code",
      "source": [
        "replace_dict={\n",
        "        \"Fuel_Type\":{\n",
        "            \"CNG\":1,\n",
        "            \"Diesel\":2,\n",
        "            \"Petrol\":3,\n",
        "            \"LPG\":4\n",
        "        },\n",
        "        \"Transmission\":{\n",
        "            \"Manual\":1,\n",
        "            \"Automatic\":2,\n",
        "        },\n",
        "        \"Owner_Type\":{\n",
        "            \"First\":1,\n",
        "            \"Second\":2,\n",
        "            \"Fourth & Above\":4,\n",
        "            \"Third\":3\n",
        "        }\n",
        "}\n",
        "data.replace(replace_dict,inplace=True)\n",
        "data.reset_index(drop=True)"
      ],
      "metadata": {
        "id": "2jgCee83O-wL",
        "colab": {
          "base_uri": "https://localhost:8080/",
          "height": 423
        },
        "outputId": "0447860d-8475-426a-e9db-ecc15db47cb9"
      },
      "execution_count": 1024,
      "outputs": [
        {
          "output_type": "execute_result",
          "data": {
            "text/plain": [
              "                      Name  Year  Kilometers_Driven Fuel_Type  Transmission  \\\n",
              "0              MarutiWagon  2010              72000         1             1   \n",
              "1             HyundaiCreta  2015              41000         2             1   \n",
              "2                HondaJazz  2011              46000         3             1   \n",
              "3             MarutiErtiga  2012              87000         2             1   \n",
              "4                   AudiA4  2013              40670         2             2   \n",
              "...                    ...   ...                ...       ...           ...   \n",
              "7119       VolkswagenVento  2011              89411         2             1   \n",
              "7120        VolkswagenPolo  2015              59000         3             2   \n",
              "7121           NissanMicra  2012              28000         2             1   \n",
              "7122        VolkswagenPolo  2013              52262         3             2   \n",
              "7123  Mercedes-BenzE-Class  2014              72443         2             2   \n",
              "\n",
              "      Owner_Type  Mileage  Engine   Power  Seats  \n",
              "0              1    26.60   998.0   58.16    5.0  \n",
              "1              1    19.67  1582.0  126.20    5.0  \n",
              "2              1    18.20  1199.0   88.70    5.0  \n",
              "3              1    20.77  1248.0   88.76    7.0  \n",
              "4              2    15.20  1968.0  140.80    5.0  \n",
              "...          ...      ...     ...     ...    ...  \n",
              "7119           1    20.54  1598.0  103.60    5.0  \n",
              "7120           1    17.21  1197.0  103.60    5.0  \n",
              "7121           1    23.08  1461.0   63.10    5.0  \n",
              "7122           3    17.20  1197.0  103.60    5.0  \n",
              "7123           1    10.00  2148.0  170.00    5.0  \n",
              "\n",
              "[7124 rows x 10 columns]"
            ],
            "text/html": [
              "\n",
              "  <div id=\"df-25e6ff68-d0da-45ba-ad9b-4a39740177e6\" class=\"colab-df-container\">\n",
              "    <div>\n",
              "<style scoped>\n",
              "    .dataframe tbody tr th:only-of-type {\n",
              "        vertical-align: middle;\n",
              "    }\n",
              "\n",
              "    .dataframe tbody tr th {\n",
              "        vertical-align: top;\n",
              "    }\n",
              "\n",
              "    .dataframe thead th {\n",
              "        text-align: right;\n",
              "    }\n",
              "</style>\n",
              "<table border=\"1\" class=\"dataframe\">\n",
              "  <thead>\n",
              "    <tr style=\"text-align: right;\">\n",
              "      <th></th>\n",
              "      <th>Name</th>\n",
              "      <th>Year</th>\n",
              "      <th>Kilometers_Driven</th>\n",
              "      <th>Fuel_Type</th>\n",
              "      <th>Transmission</th>\n",
              "      <th>Owner_Type</th>\n",
              "      <th>Mileage</th>\n",
              "      <th>Engine</th>\n",
              "      <th>Power</th>\n",
              "      <th>Seats</th>\n",
              "    </tr>\n",
              "  </thead>\n",
              "  <tbody>\n",
              "    <tr>\n",
              "      <th>0</th>\n",
              "      <td>MarutiWagon</td>\n",
              "      <td>2010</td>\n",
              "      <td>72000</td>\n",
              "      <td>1</td>\n",
              "      <td>1</td>\n",
              "      <td>1</td>\n",
              "      <td>26.60</td>\n",
              "      <td>998.0</td>\n",
              "      <td>58.16</td>\n",
              "      <td>5.0</td>\n",
              "    </tr>\n",
              "    <tr>\n",
              "      <th>1</th>\n",
              "      <td>HyundaiCreta</td>\n",
              "      <td>2015</td>\n",
              "      <td>41000</td>\n",
              "      <td>2</td>\n",
              "      <td>1</td>\n",
              "      <td>1</td>\n",
              "      <td>19.67</td>\n",
              "      <td>1582.0</td>\n",
              "      <td>126.20</td>\n",
              "      <td>5.0</td>\n",
              "    </tr>\n",
              "    <tr>\n",
              "      <th>2</th>\n",
              "      <td>HondaJazz</td>\n",
              "      <td>2011</td>\n",
              "      <td>46000</td>\n",
              "      <td>3</td>\n",
              "      <td>1</td>\n",
              "      <td>1</td>\n",
              "      <td>18.20</td>\n",
              "      <td>1199.0</td>\n",
              "      <td>88.70</td>\n",
              "      <td>5.0</td>\n",
              "    </tr>\n",
              "    <tr>\n",
              "      <th>3</th>\n",
              "      <td>MarutiErtiga</td>\n",
              "      <td>2012</td>\n",
              "      <td>87000</td>\n",
              "      <td>2</td>\n",
              "      <td>1</td>\n",
              "      <td>1</td>\n",
              "      <td>20.77</td>\n",
              "      <td>1248.0</td>\n",
              "      <td>88.76</td>\n",
              "      <td>7.0</td>\n",
              "    </tr>\n",
              "    <tr>\n",
              "      <th>4</th>\n",
              "      <td>AudiA4</td>\n",
              "      <td>2013</td>\n",
              "      <td>40670</td>\n",
              "      <td>2</td>\n",
              "      <td>2</td>\n",
              "      <td>2</td>\n",
              "      <td>15.20</td>\n",
              "      <td>1968.0</td>\n",
              "      <td>140.80</td>\n",
              "      <td>5.0</td>\n",
              "    </tr>\n",
              "    <tr>\n",
              "      <th>...</th>\n",
              "      <td>...</td>\n",
              "      <td>...</td>\n",
              "      <td>...</td>\n",
              "      <td>...</td>\n",
              "      <td>...</td>\n",
              "      <td>...</td>\n",
              "      <td>...</td>\n",
              "      <td>...</td>\n",
              "      <td>...</td>\n",
              "      <td>...</td>\n",
              "    </tr>\n",
              "    <tr>\n",
              "      <th>7119</th>\n",
              "      <td>VolkswagenVento</td>\n",
              "      <td>2011</td>\n",
              "      <td>89411</td>\n",
              "      <td>2</td>\n",
              "      <td>1</td>\n",
              "      <td>1</td>\n",
              "      <td>20.54</td>\n",
              "      <td>1598.0</td>\n",
              "      <td>103.60</td>\n",
              "      <td>5.0</td>\n",
              "    </tr>\n",
              "    <tr>\n",
              "      <th>7120</th>\n",
              "      <td>VolkswagenPolo</td>\n",
              "      <td>2015</td>\n",
              "      <td>59000</td>\n",
              "      <td>3</td>\n",
              "      <td>2</td>\n",
              "      <td>1</td>\n",
              "      <td>17.21</td>\n",
              "      <td>1197.0</td>\n",
              "      <td>103.60</td>\n",
              "      <td>5.0</td>\n",
              "    </tr>\n",
              "    <tr>\n",
              "      <th>7121</th>\n",
              "      <td>NissanMicra</td>\n",
              "      <td>2012</td>\n",
              "      <td>28000</td>\n",
              "      <td>2</td>\n",
              "      <td>1</td>\n",
              "      <td>1</td>\n",
              "      <td>23.08</td>\n",
              "      <td>1461.0</td>\n",
              "      <td>63.10</td>\n",
              "      <td>5.0</td>\n",
              "    </tr>\n",
              "    <tr>\n",
              "      <th>7122</th>\n",
              "      <td>VolkswagenPolo</td>\n",
              "      <td>2013</td>\n",
              "      <td>52262</td>\n",
              "      <td>3</td>\n",
              "      <td>2</td>\n",
              "      <td>3</td>\n",
              "      <td>17.20</td>\n",
              "      <td>1197.0</td>\n",
              "      <td>103.60</td>\n",
              "      <td>5.0</td>\n",
              "    </tr>\n",
              "    <tr>\n",
              "      <th>7123</th>\n",
              "      <td>Mercedes-BenzE-Class</td>\n",
              "      <td>2014</td>\n",
              "      <td>72443</td>\n",
              "      <td>2</td>\n",
              "      <td>2</td>\n",
              "      <td>1</td>\n",
              "      <td>10.00</td>\n",
              "      <td>2148.0</td>\n",
              "      <td>170.00</td>\n",
              "      <td>5.0</td>\n",
              "    </tr>\n",
              "  </tbody>\n",
              "</table>\n",
              "<p>7124 rows × 10 columns</p>\n",
              "</div>\n",
              "    <div class=\"colab-df-buttons\">\n",
              "\n",
              "  <div class=\"colab-df-container\">\n",
              "    <button class=\"colab-df-convert\" onclick=\"convertToInteractive('df-25e6ff68-d0da-45ba-ad9b-4a39740177e6')\"\n",
              "            title=\"Convert this dataframe to an interactive table.\"\n",
              "            style=\"display:none;\">\n",
              "\n",
              "  <svg xmlns=\"http://www.w3.org/2000/svg\" height=\"24px\" viewBox=\"0 -960 960 960\">\n",
              "    <path d=\"M120-120v-720h720v720H120Zm60-500h600v-160H180v160Zm220 220h160v-160H400v160Zm0 220h160v-160H400v160ZM180-400h160v-160H180v160Zm440 0h160v-160H620v160ZM180-180h160v-160H180v160Zm440 0h160v-160H620v160Z\"/>\n",
              "  </svg>\n",
              "    </button>\n",
              "\n",
              "  <style>\n",
              "    .colab-df-container {\n",
              "      display:flex;\n",
              "      gap: 12px;\n",
              "    }\n",
              "\n",
              "    .colab-df-convert {\n",
              "      background-color: #E8F0FE;\n",
              "      border: none;\n",
              "      border-radius: 50%;\n",
              "      cursor: pointer;\n",
              "      display: none;\n",
              "      fill: #1967D2;\n",
              "      height: 32px;\n",
              "      padding: 0 0 0 0;\n",
              "      width: 32px;\n",
              "    }\n",
              "\n",
              "    .colab-df-convert:hover {\n",
              "      background-color: #E2EBFA;\n",
              "      box-shadow: 0px 1px 2px rgba(60, 64, 67, 0.3), 0px 1px 3px 1px rgba(60, 64, 67, 0.15);\n",
              "      fill: #174EA6;\n",
              "    }\n",
              "\n",
              "    .colab-df-buttons div {\n",
              "      margin-bottom: 4px;\n",
              "    }\n",
              "\n",
              "    [theme=dark] .colab-df-convert {\n",
              "      background-color: #3B4455;\n",
              "      fill: #D2E3FC;\n",
              "    }\n",
              "\n",
              "    [theme=dark] .colab-df-convert:hover {\n",
              "      background-color: #434B5C;\n",
              "      box-shadow: 0px 1px 3px 1px rgba(0, 0, 0, 0.15);\n",
              "      filter: drop-shadow(0px 1px 2px rgba(0, 0, 0, 0.3));\n",
              "      fill: #FFFFFF;\n",
              "    }\n",
              "  </style>\n",
              "\n",
              "    <script>\n",
              "      const buttonEl =\n",
              "        document.querySelector('#df-25e6ff68-d0da-45ba-ad9b-4a39740177e6 button.colab-df-convert');\n",
              "      buttonEl.style.display =\n",
              "        google.colab.kernel.accessAllowed ? 'block' : 'none';\n",
              "\n",
              "      async function convertToInteractive(key) {\n",
              "        const element = document.querySelector('#df-25e6ff68-d0da-45ba-ad9b-4a39740177e6');\n",
              "        const dataTable =\n",
              "          await google.colab.kernel.invokeFunction('convertToInteractive',\n",
              "                                                    [key], {});\n",
              "        if (!dataTable) return;\n",
              "\n",
              "        const docLinkHtml = 'Like what you see? Visit the ' +\n",
              "          '<a target=\"_blank\" href=https://colab.research.google.com/notebooks/data_table.ipynb>data table notebook</a>'\n",
              "          + ' to learn more about interactive tables.';\n",
              "        element.innerHTML = '';\n",
              "        dataTable['output_type'] = 'display_data';\n",
              "        await google.colab.output.renderOutput(dataTable, element);\n",
              "        const docLink = document.createElement('div');\n",
              "        docLink.innerHTML = docLinkHtml;\n",
              "        element.appendChild(docLink);\n",
              "      }\n",
              "    </script>\n",
              "  </div>\n",
              "\n",
              "\n",
              "<div id=\"df-c6d6255a-906b-4a8d-a9c4-8314c715ac94\">\n",
              "  <button class=\"colab-df-quickchart\" onclick=\"quickchart('df-c6d6255a-906b-4a8d-a9c4-8314c715ac94')\"\n",
              "            title=\"Suggest charts\"\n",
              "            style=\"display:none;\">\n",
              "\n",
              "<svg xmlns=\"http://www.w3.org/2000/svg\" height=\"24px\"viewBox=\"0 0 24 24\"\n",
              "     width=\"24px\">\n",
              "    <g>\n",
              "        <path d=\"M19 3H5c-1.1 0-2 .9-2 2v14c0 1.1.9 2 2 2h14c1.1 0 2-.9 2-2V5c0-1.1-.9-2-2-2zM9 17H7v-7h2v7zm4 0h-2V7h2v10zm4 0h-2v-4h2v4z\"/>\n",
              "    </g>\n",
              "</svg>\n",
              "  </button>\n",
              "\n",
              "<style>\n",
              "  .colab-df-quickchart {\n",
              "      --bg-color: #E8F0FE;\n",
              "      --fill-color: #1967D2;\n",
              "      --hover-bg-color: #E2EBFA;\n",
              "      --hover-fill-color: #174EA6;\n",
              "      --disabled-fill-color: #AAA;\n",
              "      --disabled-bg-color: #DDD;\n",
              "  }\n",
              "\n",
              "  [theme=dark] .colab-df-quickchart {\n",
              "      --bg-color: #3B4455;\n",
              "      --fill-color: #D2E3FC;\n",
              "      --hover-bg-color: #434B5C;\n",
              "      --hover-fill-color: #FFFFFF;\n",
              "      --disabled-bg-color: #3B4455;\n",
              "      --disabled-fill-color: #666;\n",
              "  }\n",
              "\n",
              "  .colab-df-quickchart {\n",
              "    background-color: var(--bg-color);\n",
              "    border: none;\n",
              "    border-radius: 50%;\n",
              "    cursor: pointer;\n",
              "    display: none;\n",
              "    fill: var(--fill-color);\n",
              "    height: 32px;\n",
              "    padding: 0;\n",
              "    width: 32px;\n",
              "  }\n",
              "\n",
              "  .colab-df-quickchart:hover {\n",
              "    background-color: var(--hover-bg-color);\n",
              "    box-shadow: 0 1px 2px rgba(60, 64, 67, 0.3), 0 1px 3px 1px rgba(60, 64, 67, 0.15);\n",
              "    fill: var(--button-hover-fill-color);\n",
              "  }\n",
              "\n",
              "  .colab-df-quickchart-complete:disabled,\n",
              "  .colab-df-quickchart-complete:disabled:hover {\n",
              "    background-color: var(--disabled-bg-color);\n",
              "    fill: var(--disabled-fill-color);\n",
              "    box-shadow: none;\n",
              "  }\n",
              "\n",
              "  .colab-df-spinner {\n",
              "    border: 2px solid var(--fill-color);\n",
              "    border-color: transparent;\n",
              "    border-bottom-color: var(--fill-color);\n",
              "    animation:\n",
              "      spin 1s steps(1) infinite;\n",
              "  }\n",
              "\n",
              "  @keyframes spin {\n",
              "    0% {\n",
              "      border-color: transparent;\n",
              "      border-bottom-color: var(--fill-color);\n",
              "      border-left-color: var(--fill-color);\n",
              "    }\n",
              "    20% {\n",
              "      border-color: transparent;\n",
              "      border-left-color: var(--fill-color);\n",
              "      border-top-color: var(--fill-color);\n",
              "    }\n",
              "    30% {\n",
              "      border-color: transparent;\n",
              "      border-left-color: var(--fill-color);\n",
              "      border-top-color: var(--fill-color);\n",
              "      border-right-color: var(--fill-color);\n",
              "    }\n",
              "    40% {\n",
              "      border-color: transparent;\n",
              "      border-right-color: var(--fill-color);\n",
              "      border-top-color: var(--fill-color);\n",
              "    }\n",
              "    60% {\n",
              "      border-color: transparent;\n",
              "      border-right-color: var(--fill-color);\n",
              "    }\n",
              "    80% {\n",
              "      border-color: transparent;\n",
              "      border-right-color: var(--fill-color);\n",
              "      border-bottom-color: var(--fill-color);\n",
              "    }\n",
              "    90% {\n",
              "      border-color: transparent;\n",
              "      border-bottom-color: var(--fill-color);\n",
              "    }\n",
              "  }\n",
              "</style>\n",
              "\n",
              "  <script>\n",
              "    async function quickchart(key) {\n",
              "      const quickchartButtonEl =\n",
              "        document.querySelector('#' + key + ' button');\n",
              "      quickchartButtonEl.disabled = true;  // To prevent multiple clicks.\n",
              "      quickchartButtonEl.classList.add('colab-df-spinner');\n",
              "      try {\n",
              "        const charts = await google.colab.kernel.invokeFunction(\n",
              "            'suggestCharts', [key], {});\n",
              "      } catch (error) {\n",
              "        console.error('Error during call to suggestCharts:', error);\n",
              "      }\n",
              "      quickchartButtonEl.classList.remove('colab-df-spinner');\n",
              "      quickchartButtonEl.classList.add('colab-df-quickchart-complete');\n",
              "    }\n",
              "    (() => {\n",
              "      let quickchartButtonEl =\n",
              "        document.querySelector('#df-c6d6255a-906b-4a8d-a9c4-8314c715ac94 button');\n",
              "      quickchartButtonEl.style.display =\n",
              "        google.colab.kernel.accessAllowed ? 'block' : 'none';\n",
              "    })();\n",
              "  </script>\n",
              "</div>\n",
              "\n",
              "    </div>\n",
              "  </div>\n"
            ],
            "application/vnd.google.colaboratory.intrinsic+json": {
              "type": "dataframe",
              "summary": "{\n  \"name\": \"data\",\n  \"rows\": 7124,\n  \"fields\": [\n    {\n      \"column\": \"Name\",\n      \"properties\": {\n        \"dtype\": \"category\",\n        \"samples\": [\n          \"Mercedes-BenzSL-Class\",\n          \"Nissan370Z\",\n          \"MarutiIgnis\"\n        ],\n        \"num_unique_values\": 215,\n        \"semantic_type\": \"\",\n        \"description\": \"\"\n      }\n    },\n    {\n      \"column\": \"Year\",\n      \"properties\": {\n        \"dtype\": \"number\",\n        \"std\": 3,\n        \"min\": 1998,\n        \"max\": 2019,\n        \"samples\": [\n          2010,\n          2006,\n          2017\n        ],\n        \"num_unique_values\": 22,\n        \"semantic_type\": \"\",\n        \"description\": \"\"\n      }\n    },\n    {\n      \"column\": \"Kilometers_Driven\",\n      \"properties\": {\n        \"dtype\": \"number\",\n        \"std\": 84984,\n        \"min\": 171,\n        \"max\": 6500000,\n        \"samples\": [\n          28635,\n          51944,\n          83816\n        ],\n        \"num_unique_values\": 3610,\n        \"semantic_type\": \"\",\n        \"description\": \"\"\n      }\n    },\n    {\n      \"column\": \"Fuel_Type\",\n      \"properties\": {\n        \"dtype\": \"category\",\n        \"samples\": [\n          2,\n          \"Electric\",\n          3\n        ],\n        \"num_unique_values\": 5,\n        \"semantic_type\": \"\",\n        \"description\": \"\"\n      }\n    },\n    {\n      \"column\": \"Transmission\",\n      \"properties\": {\n        \"dtype\": \"number\",\n        \"std\": 0,\n        \"min\": 1,\n        \"max\": 2,\n        \"samples\": [\n          2,\n          1\n        ],\n        \"num_unique_values\": 2,\n        \"semantic_type\": \"\",\n        \"description\": \"\"\n      }\n    },\n    {\n      \"column\": \"Owner_Type\",\n      \"properties\": {\n        \"dtype\": \"number\",\n        \"std\": 0,\n        \"min\": 1,\n        \"max\": 4,\n        \"samples\": [\n          2,\n          3\n        ],\n        \"num_unique_values\": 4,\n        \"semantic_type\": \"\",\n        \"description\": \"\"\n      }\n    },\n    {\n      \"column\": \"Mileage\",\n      \"properties\": {\n        \"dtype\": \"number\",\n        \"std\": 4.4119594802514,\n        \"min\": 0.0,\n        \"max\": 33.54,\n        \"samples\": [\n          26.8,\n          19.83\n        ],\n        \"num_unique_values\": 437,\n        \"semantic_type\": \"\",\n        \"description\": \"\"\n      }\n    },\n    {\n      \"column\": \"Engine\",\n      \"properties\": {\n        \"dtype\": \"number\",\n        \"std\": 594.1632014344908,\n        \"min\": 72.0,\n        \"max\": 5998.0,\n        \"samples\": [\n          2147.0,\n          1798.0\n        ],\n        \"num_unique_values\": 144,\n        \"semantic_type\": \"\",\n        \"description\": \"\"\n      }\n    },\n    {\n      \"column\": \"Power\",\n      \"properties\": {\n        \"dtype\": \"number\",\n        \"std\": 53.34172645783703,\n        \"min\": 34.2,\n        \"max\": 616.0,\n        \"samples\": [\n          102.57,\n          158.8\n        ],\n        \"num_unique_values\": 383,\n        \"semantic_type\": \"\",\n        \"description\": \"\"\n      }\n    },\n    {\n      \"column\": \"Seats\",\n      \"properties\": {\n        \"dtype\": \"number\",\n        \"std\": 0.8071550576266344,\n        \"min\": 2.0,\n        \"max\": 10.0,\n        \"samples\": [\n          7.0,\n          2.0\n        ],\n        \"num_unique_values\": 8,\n        \"semantic_type\": \"\",\n        \"description\": \"\"\n      }\n    }\n  ]\n}"
            }
          },
          "metadata": {},
          "execution_count": 1024
        }
      ]
    },
    {
      "cell_type": "code",
      "source": [
        "data.dtypes"
      ],
      "metadata": {
        "colab": {
          "base_uri": "https://localhost:8080/"
        },
        "id": "UqbPVfJKwtZ3",
        "outputId": "f7775a44-c52e-4ede-df9b-914efdfa9712"
      },
      "execution_count": 1025,
      "outputs": [
        {
          "output_type": "execute_result",
          "data": {
            "text/plain": [
              "Name                  object\n",
              "Year                   int64\n",
              "Kilometers_Driven      int64\n",
              "Fuel_Type             object\n",
              "Transmission           int64\n",
              "Owner_Type             int64\n",
              "Mileage              float64\n",
              "Engine               float64\n",
              "Power                float64\n",
              "Seats                float64\n",
              "dtype: object"
            ]
          },
          "metadata": {},
          "execution_count": 1025
        }
      ]
    },
    {
      "cell_type": "markdown",
      "source": [
        "Now Our Most of data is converted into numeric values\n",
        "\n"
      ],
      "metadata": {
        "id": "2XBfl0uEdrZw"
      }
    },
    {
      "cell_type": "markdown",
      "source": [
        "#convert categorical features into indicator variables\n",
        "using `get_dummies()`"
      ],
      "metadata": {
        "id": "S2u57pN4U-Qq"
      }
    },
    {
      "cell_type": "code",
      "source": [
        "data.reset_index(drop=True)\n",
        "data=pd.get_dummies(data)"
      ],
      "metadata": {
        "id": "b76u20gHpWqs"
      },
      "execution_count": 1026,
      "outputs": []
    },
    {
      "cell_type": "code",
      "source": [
        "len(data)"
      ],
      "metadata": {
        "colab": {
          "base_uri": "https://localhost:8080/"
        },
        "id": "Ie9xDGfUnOm6",
        "outputId": "c76fd348-7ee6-443f-926e-c309b682be2d"
      },
      "execution_count": 1027,
      "outputs": [
        {
          "output_type": "execute_result",
          "data": {
            "text/plain": [
              "7124"
            ]
          },
          "metadata": {},
          "execution_count": 1027
        }
      ]
    },
    {
      "cell_type": "code",
      "source": [
        "len(Y)"
      ],
      "metadata": {
        "colab": {
          "base_uri": "https://localhost:8080/"
        },
        "id": "gRY_ty-5n6oY",
        "outputId": "c0a5cc64-3d8d-432a-8cfa-9df827f0ab23"
      },
      "execution_count": 1028,
      "outputs": [
        {
          "output_type": "execute_result",
          "data": {
            "text/plain": [
              "6019"
            ]
          },
          "metadata": {},
          "execution_count": 1028
        }
      ]
    },
    {
      "cell_type": "markdown",
      "source": [
        "As we have removed **some rows from data** which is removed from our train data too so we have to remove that row from our target columns that is **Price** column too."
      ],
      "metadata": {
        "id": "Jli-gbvXq_9O"
      }
    },
    {
      "cell_type": "code",
      "source": [
        "again_remove=[]\n",
        "for i in range(0,len(remove_pos)):\n",
        "    if(remove_pos[i]>len(train_data)):\n",
        "        break\n",
        "    again_remove.append(remove_pos[i])\n",
        "Y.drop(again_remove,axis=0,inplace=True)"
      ],
      "metadata": {
        "id": "S-KC5KiJ3IHm"
      },
      "execution_count": 1029,
      "outputs": []
    },
    {
      "cell_type": "code",
      "source": [
        "len(Y)"
      ],
      "metadata": {
        "colab": {
          "base_uri": "https://localhost:8080/"
        },
        "id": "zCZ7Ab8Knp7A",
        "outputId": "830ff437-9f56-45ee-d311-44e53e5e14b1"
      },
      "execution_count": 1030,
      "outputs": [
        {
          "output_type": "execute_result",
          "data": {
            "text/plain": [
              "5912"
            ]
          },
          "metadata": {},
          "execution_count": 1030
        }
      ]
    },
    {
      "cell_type": "code",
      "source": [
        "l=len(train_data)-len(again_remove)\n",
        "len(train_data),len(again_remove)"
      ],
      "metadata": {
        "colab": {
          "base_uri": "https://localhost:8080/"
        },
        "id": "JvEJUV4-jQh-",
        "outputId": "65971085-3831-4387-98f7-d5996c71ca8d"
      },
      "execution_count": 1031,
      "outputs": [
        {
          "output_type": "execute_result",
          "data": {
            "text/plain": [
              "(6019, 107)"
            ]
          },
          "metadata": {},
          "execution_count": 1031
        }
      ]
    },
    {
      "cell_type": "markdown",
      "source": [
        "#Data is ready to train and test the model\n",
        "\n",
        "create train and test variable"
      ],
      "metadata": {
        "id": "A98pRbhytbwP"
      }
    },
    {
      "cell_type": "code",
      "source": [
        "train=data[:l]\n",
        "test=data[l:]"
      ],
      "metadata": {
        "id": "gMEJodb3tmLS"
      },
      "execution_count": 1032,
      "outputs": []
    },
    {
      "cell_type": "markdown",
      "source": [
        "#plots\n",
        "Let's observe our train_data with few plots for better understanding of our data"
      ],
      "metadata": {
        "id": "NVZZ_ivYrzA7"
      }
    },
    {
      "cell_type": "code",
      "source": [
        "fig,ax=plt.subplots(nrows=2,ncols=2,figsize=(15,7))\n",
        "ax[0,0].plot(train.Mileage,Y)\n",
        "ax[0,0].set(title=\"Mileage vs Price\")\n",
        "\n",
        "ax[0,1].plot(train.Power,Y)\n",
        "ax[0,1].set(title=\"Power vs Price\")\n",
        "\n",
        "ax[1,0].plot(train.Engine,Y)\n",
        "ax[1,0].set(title=\"Engine vs Price\")\n",
        "\n",
        "ax[1,1].plot(train.Owner_Type,Y)\n",
        "ax[1,1].set(title=\"Owner_Type vs Price\")"
      ],
      "metadata": {
        "colab": {
          "base_uri": "https://localhost:8080/",
          "height": 639
        },
        "id": "-7MMUNTTscl6",
        "outputId": "bdf81d19-4124-402d-a604-4c8114595d59"
      },
      "execution_count": 1033,
      "outputs": [
        {
          "output_type": "execute_result",
          "data": {
            "text/plain": [
              "[Text(0.5, 1.0, 'Owner_Type vs Price')]"
            ]
          },
          "metadata": {},
          "execution_count": 1033
        },
        {
          "output_type": "display_data",
          "data": {
            "text/plain": [
              "<Figure size 1500x700 with 4 Axes>"
            ],
            "image/png": "[encoded data removed]"
          },
          "metadata": {}
        }
      ]
    },
    {
      "cell_type": "code",
      "source": [
        "corr_m.unstack().sort_values().dropna()"
      ],
      "metadata": {
        "colab": {
          "base_uri": "https://localhost:8080/"
        },
        "id": "DDDHAt3IulHb",
        "outputId": "0082bab7-ab0c-456e-8462-9668aeadc5b4"
      },
      "execution_count": 1034,
      "outputs": [
        {
          "output_type": "execute_result",
          "data": {
            "text/plain": [
              "Kilometers_Driven  Year                -0.173048\n",
              "Year               Kilometers_Driven   -0.173048\n",
              "Price              Unnamed: 0          -0.020275\n",
              "Unnamed: 0         Price               -0.020275\n",
              "Kilometers_Driven  Price               -0.011493\n",
              "Price              Kilometers_Driven   -0.011493\n",
              "Seats              Unnamed: 0          -0.010832\n",
              "Unnamed: 0         Seats               -0.010832\n",
              "Kilometers_Driven  Unnamed: 0          -0.008734\n",
              "Unnamed: 0         Kilometers_Driven   -0.008734\n",
              "Year               Unnamed: 0           0.002354\n",
              "Unnamed: 0         Year                 0.002354\n",
              "Seats              Year                 0.012333\n",
              "Year               Seats                0.012333\n",
              "Seats              Price                0.052225\n",
              "Price              Seats                0.052225\n",
              "Kilometers_Driven  Seats                0.083113\n",
              "Seats              Kilometers_Driven    0.083113\n",
              "Year               Price                0.305327\n",
              "Price              Year                 0.305327\n",
              "Unnamed: 0         Unnamed: 0           1.000000\n",
              "Kilometers_Driven  Kilometers_Driven    1.000000\n",
              "Year               Year                 1.000000\n",
              "Seats              Seats                1.000000\n",
              "Price              Price                1.000000\n",
              "dtype: float64"
            ]
          },
          "metadata": {},
          "execution_count": 1034
        }
      ]
    },
    {
      "cell_type": "markdown",
      "source": [
        "Split data for training and testing the model"
      ],
      "metadata": {
        "id": "btuUdrsWreEe"
      }
    },
    {
      "cell_type": "code",
      "source": [
        "x_tr,x_te,y_tr,y_te=train_test_split(train,Y[:l],test_size=0.2)\n",
        "x_tr.shape,test.shape,len(data)"
      ],
      "metadata": {
        "colab": {
          "base_uri": "https://localhost:8080/"
        },
        "id": "6aMjv4A_rc9w",
        "outputId": "8c2c0884-c0bf-4aab-d06d-9dfd6efae0e4"
      },
      "execution_count": 1041,
      "outputs": [
        {
          "output_type": "execute_result",
          "data": {
            "text/plain": [
              "((4729, 228), (1212, 228), 7124)"
            ]
          },
          "metadata": {},
          "execution_count": 1041
        }
      ]
    },
    {
      "cell_type": "markdown",
      "source": [
        "#prepare model\n",
        "* choose model\n",
        "*  train model\n",
        "*   check r2 score and accuracy score"
      ],
      "metadata": {
        "id": "90fSZGc4VQ_h"
      }
    },
    {
      "cell_type": "code",
      "source": [
        "def  Model(model,x_train,y_train,x_test,y_test):\n",
        "    for key,value in model.items():\n",
        "        value.fit(x_train,y_train)\n",
        "        y_pred=value.predict(x_test)\n",
        "        y_pred.shape\n",
        "        print(f\"{key } r2 score is {r2_score(y_pred,y_test)} and Mean squared error is {mean_squared_error(y_pred,y_test)}\")\n",
        "    return"
      ],
      "metadata": {
        "id": "BDZ13esyZElr"
      },
      "execution_count": 1042,
      "outputs": []
    },
    {
      "cell_type": "code",
      "source": [
        "model_dict={\n",
        "    \"Ridge\":Ridge(alpha=0.5),\n",
        "    \"BayesianRidge\":BayesianRidge(),\n",
        "    \"RandomForestRegressor\":RandomForestRegressor(n_jobs=-1)\n",
        "}\n",
        "Model(model_dict,x_tr,y_tr,x_te,y_te)"
      ],
      "metadata": {
        "colab": {
          "base_uri": "https://localhost:8080/"
        },
        "id": "NDrtuMFiyCYx",
        "outputId": "9e6defa2-a881-40c3-9f9a-82002b424caf"
      },
      "execution_count": 1043,
      "outputs": [
        {
          "output_type": "stream",
          "name": "stdout",
          "text": [
            "Ridge r2 score is 0.7846995830048951 and Mean squared error is 20.005867368154416\n",
            "BayesianRidge r2 score is 0.7834930346987601 and Mean squared error is 20.077124300671176\n",
            "RandomForestRegressor r2 score is 0.9168096903615256 and Mean squared error is 8.38409510769091\n"
          ]
        }
      ]
    },
    {
      "cell_type": "markdown",
      "source": [
        "1.  Ridge"
      ],
      "metadata": {
        "id": "Z0nKe0-QVdul"
      }
    },
    {
      "cell_type": "code",
      "source": [
        "reg1=Ridge(alpha=0.5)\n",
        "reg1.fit(x_tr,y_tr)\n",
        "y_pred=reg1.predict(x_te)\n",
        "r2_score(y_pred,y_te)"
      ],
      "metadata": {
        "colab": {
          "base_uri": "https://localhost:8080/"
        },
        "id": "dWPYMQQmVqCg",
        "outputId": "666d2a38-fff0-4a61-db83-0ff59faa4de5"
      },
      "execution_count": 1044,
      "outputs": [
        {
          "output_type": "execute_result",
          "data": {
            "text/plain": [
              "0.7846995830048951"
            ]
          },
          "metadata": {},
          "execution_count": 1044
        }
      ]
    },
    {
      "cell_type": "markdown",
      "source": [
        "2. BayesianRidge"
      ],
      "metadata": {
        "id": "f_XjbUiHWIoV"
      }
    },
    {
      "cell_type": "code",
      "source": [
        "reg2=BayesianRidge()\n",
        "reg2.fit(x_tr,y_tr)\n",
        "y_pred2=reg2.predict(x_te)\n",
        "r2_score(y_pred2,y_te)"
      ],
      "metadata": {
        "colab": {
          "base_uri": "https://localhost:8080/"
        },
        "id": "ZOdYXsbrWK4J",
        "outputId": "8ef6105f-4d78-455a-bf6a-41bc3f06a1cd"
      },
      "execution_count": 1045,
      "outputs": [
        {
          "output_type": "execute_result",
          "data": {
            "text/plain": [
              "0.7834930346987601"
            ]
          },
          "metadata": {},
          "execution_count": 1045
        }
      ]
    },
    {
      "cell_type": "markdown",
      "source": [
        "3.  RandomForestRegressor\n"
      ],
      "metadata": {
        "id": "dUSnRqwOV5Mt"
      }
    },
    {
      "cell_type": "code",
      "source": [
        "model=RandomForestRegressor(n_jobs=-1)\n",
        "model.fit(x_tr,y_tr)\n",
        "y_pred=model.predict(x_te)\n",
        "r2_score(y_pred,y_te)"
      ],
      "metadata": {
        "colab": {
          "base_uri": "https://localhost:8080/"
        },
        "id": "83lIUmtrSjHj",
        "outputId": "6417ddb7-5c29-4284-96bc-0ea7af0bd8d6"
      },
      "execution_count": 1046,
      "outputs": [
        {
          "output_type": "execute_result",
          "data": {
            "text/plain": [
              "0.9134693325451513"
            ]
          },
          "metadata": {},
          "execution_count": 1046
        }
      ]
    },
    {
      "cell_type": "markdown",
      "source": [
        "Best performed model is RandomForestRegressor ✅ with good r2_score .\n"
      ],
      "metadata": {
        "id": "eckxCuCNcc24"
      }
    }
  ]
}